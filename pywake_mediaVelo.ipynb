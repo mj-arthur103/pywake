{
 "cells": [
  {
   "cell_type": "code",
   "execution_count": null,
   "id": "929b4de4",
   "metadata": {},
   "outputs": [],
   "source": [
    "import xarray as xr #Similar ao pandas mas com melhor eficiencia para trabalhar com matrizes multidimensionais, muito bom para dados georref\n",
    "import numpy as np\n",
    "from scipy.stats import weibull_min\n",
    "from py_wake.site.xrsite import XRSite\n",
    "from py_wake.site.shear import PowerShear\n",
    "import matplotlib.pyplot as plt\n",
    "from py_wake.flow_map import XYGrid, YZGrid, XZGrid\n",
    "from pyproj import Proj, Transformer\n",
    "from py_wake.wind_turbines import WindTurbine\n",
    "from py_wake.wind_turbines.power_ct_functions import PowerCtTabular\n",
    "import pandas as pd\n",
    "from topfarm.utils import regular_generic_layout, regular_generic_layout_gradients\n",
    "import topfarm"
   ]
  },
  {
   "cell_type": "code",
   "execution_count": null,
   "id": "16e0b0eb",
   "metadata": {},
   "outputs": [],
   "source": [
    "import os\n",
    "import numpy as np\n",
    "import matplotlib.pyplot as plt\n",
    "from py_wake.wind_turbines import WindTurbine, WindTurbines"
   ]
  },
  {
   "cell_type": "code",
   "execution_count": null,
   "id": "1ba2dd92",
   "metadata": {},
   "outputs": [],
   "source": [
    "from py_wake.wind_turbines.power_ct_functions import PowerCtTabular\n",
    "import pandas as pd\n",
    "\n",
    "u= [0,3,5,7,9,11,13,15,17,19,21]\n",
    "ct= [0,8/9,8/9,8/9,8/9,8/9,8/9,8/9,8/9,8/9,8]\n",
    "power= [0,0,0,0,0,0,49, 127, 224, 339, 480]\n",
    "\n",
    "turbina= WindTurbine(name='MyWT',\n",
    "                    diameter=136,\n",
    "                    hub_height=100,\n",
    "                    powerCtFunction=PowerCtTabular(u,power,'kW',ct))"
   ]
  },
  {
   "cell_type": "code",
   "execution_count": null,
   "id": "cb4bbe1e",
   "metadata": {},
   "outputs": [],
   "source": [
    "f = [0.036, 0.039, 0.052, 0.07, 0.084, 0.064, 0.086, 0.118, 0.152, 0.147, 0.1, 0.052]\n",
    "A = [9.177, 9.782, 9.532, 9.91, 10.043, 9.594, 9.584, 10.515, 11.399, 11.687, 11.637, 10.088]\n",
    "k = [2.393, 2.447, 2.412, 2.592, 2.756, 2.596, 2.584, 2.549, 2.471, 2.607, 2.627, 2.326]\n",
    "wd = np.linspace(0, 360, len(f), endpoint=False)\n",
    "ti = .1"
   ]
  },
  {
   "cell_type": "code",
   "execution_count": null,
   "id": "7ccb05bd",
   "metadata": {},
   "outputs": [],
   "source": [
    "maior_f= f.index(max(f))"
   ]
  },
  {
   "cell_type": "code",
   "execution_count": null,
   "id": "1a88750f",
   "metadata": {},
   "outputs": [],
   "source": [
    "maior_f"
   ]
  },
  {
   "cell_type": "code",
   "execution_count": null,
   "id": "0515f98e",
   "metadata": {},
   "outputs": [],
   "source": [
    "Weibull_A = np.array(A)\n",
    "Weibull_k = np.array(k)\n",
    "#Configura o  Turbulence intensity - TI, e \n",
    "#ti = 0.1 # Desvio padrão da velocidade do vento / Velocidade média do vento\n",
    "#Gera o vetor de direção \"referencia\"\n",
    "\n",
    "site_1 = xr.Dataset(\n",
    "    data_vars={\n",
    "        'Sector_frequency': ('wd', f),\n",
    "        'Weibull_A': ('wd', Weibull_A),\n",
    "        'Weibull_k': ('wd', Weibull_k),\n",
    "        'TI': (ti)   #colocar uma lista\n",
    "    },\n",
    "    coords={\n",
    "        'wd': wd,\n",
    "    }\n",
    ")"
   ]
  },
  {
   "cell_type": "code",
   "execution_count": null,
   "id": "0fa8c181",
   "metadata": {},
   "outputs": [],
   "source": [
    "from py_wake import NOJ\n",
    "windTurbines = wt\n",
    "site = XRSite(site_1)\n"
   ]
  },
  {
   "cell_type": "code",
   "execution_count": null,
   "id": "1096b798",
   "metadata": {},
   "outputs": [],
   "source": [
    "from py_wake.wind_farm_models import All2AllIterative\n",
    "from py_wake.superposition_models import MaxSum, WeightedSum\n",
    "from py_wake.deficit_models import BastankhahGaussianDeficit, FugaDeficit, NiayifarGaussianDeficit\n",
    "\n",
    "wf_model = All2AllIterative(site, turbina,\n",
    "                            wake_deficitModel=FugaDeficit(),\n",
    "                            superpositionModel=MaxSum(),\n",
    "                            blockage_deficitModel=FugaDeficit())"
   ]
  },
  {
   "cell_type": "code",
   "execution_count": null,
   "id": "e68e0463",
   "metadata": {},
   "outputs": [],
   "source": [
    "# Create a 10x10 grid with 2000m spacing between each element\n",
    "#grid_size = 10\n",
    "#spacing = 2000\n",
    "\n",
    "#x_grid = np.arange(grid_size) * spacing\n",
    "#y_grid = np.arange(grid_size) * spacing\n",
    "\n",
    "#layout_x, layout_y = np.meshgrid(x_grid, y_grid)\n",
    "#layout_x = layout_x.reshape(-1)\n",
    "#layout_y = layout_y.reshape(-1)\n",
    "\n",
    "layout_x=[420, 200, 400, 600, 800, 1000, 1200, 1400, 1600, 1800]\n",
    "layout_y=[0,210,410,610,810,1010,1210,1410,1610,1810]"
   ]
  },
  {
   "cell_type": "code",
   "execution_count": null,
   "id": "2206ca62",
   "metadata": {},
   "outputs": [],
   "source": [
    "import time\n",
    "start_time = time.perf_counter_ns()\n",
    "simulaçaoResult = wf_model(layout_x, layout_y, wd=150, ws=[10])\n",
    "end_time = time.perf_counter_ns()\n",
    "elapsed_time = end_time - start_time\n",
    "print(f\"Tempo de execução: {elapsed_time}\")"
   ]
  },
  {
   "cell_type": "code",
   "execution_count": null,
   "id": "40dcee1f",
   "metadata": {},
   "outputs": [],
   "source": [
    "simulaçaoResult"
   ]
  },
  {
   "cell_type": "code",
   "execution_count": null,
   "id": "e4ff89ed",
   "metadata": {},
   "outputs": [],
   "source": [
    "start_time = time.perf_counter_ns()\n",
    "flow = simulaçaoResult.flow_map()\n",
    "plt.figure(figsize=(20, 11))\n",
    "flow.plot_wake_map(cmap='jet')\n",
    "plt.xlabel('x [m]')\n",
    "plt.ylabel('y [m]')\n",
    "plt.title('Mean Effective Wind Speed over Region')\n",
    "plt.show()\n",
    "end_time = time.perf_counter_ns()\n",
    "elapsed_time = end_time - start_time\n",
    "print(f\"Tempo de execução: {elapsed_time}\")"
   ]
  }
 ],
 "metadata": {
  "language_info": {
   "name": "python"
  }
 },
 "nbformat": 4,
 "nbformat_minor": 5
}
