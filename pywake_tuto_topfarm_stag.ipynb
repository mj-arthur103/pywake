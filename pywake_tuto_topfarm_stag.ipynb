{
 "cells": [
  {
   "cell_type": "code",
   "execution_count": 14,
   "id": "b5b8e164",
   "metadata": {},
   "outputs": [],
   "source": [
    "import xarray as xr #Similar ao pandas mas com melhor eficiencia para trabalhar com matrizes multidimensionais, muito bom para dados georref\n",
    "import numpy as np\n",
    "from scipy.stats import weibull_min\n",
    "from py_wake.site.xrsite import XRSite\n",
    "from py_wake.site.shear import PowerShear\n",
    "import matplotlib.pyplot as plt\n",
    "from py_wake.flow_map import XYGrid, YZGrid, XZGrid\n",
    "from pyproj import Proj, Transformer\n",
    "from py_wake.wind_turbines import WindTurbine\n",
    "from py_wake.wind_turbines.power_ct_functions import PowerCtTabular\n",
    "import pandas as pd\n",
    "from topfarm.utils import regular_generic_layout, regular_generic_layout_gradients\n",
    "import topfarm\n",
    "import os\n",
    "import numpy as np\n",
    "import matplotlib.pyplot as plt\n",
    "from py_wake.wind_turbines import WindTurbine, WindTurbines"
   ]
  },
  {
   "cell_type": "code",
   "execution_count": 15,
   "id": "a3cb256a",
   "metadata": {},
   "outputs": [],
   "source": [
    "from py_wake.deficit_models.gaussian import IEA37SimpleBastankhahGaussian     #wake model\n",
    "from py_wake.examples.data.iea37 import IEA37_WindTurbines, IEA37Site         #wind turbines and site used\n",
    "from topfarm.cost_models.py_wake_wrapper import PyWakeAEPCostModelComponent   #cost model\n",
    "\n",
    "from topfarm import TopFarmProblem\n",
    "from topfarm.easy_drivers import EasyScipyOptimizeDriver\n",
    "from topfarm.examples.iea37 import get_iea37_initial, get_iea37_constraints, get_iea37_cost\n",
    "from topfarm.plotting import NoPlot, XYPlotComp"
   ]
  },
  {
   "cell_type": "markdown",
   "id": "43fce53f",
   "metadata": {},
   "source": [
    "# Topfarm:\n",
    "- "
   ]
  },
  {
   "cell_type": "markdown",
   "id": "d91d8eca",
   "metadata": {},
   "source": [
    "# Design Variables:\n",
    "- Otimização da posição de turbina(x,y)"
   ]
  },
  {
   "cell_type": "code",
   "execution_count": 16,
   "id": "f581b1ff",
   "metadata": {},
   "outputs": [
    {
     "name": "stderr",
     "output_type": "stream",
     "text": [
      "C:\\Users\\arthurfreire\\AppData\\Local\\Packages\\PythonSoftwareFoundation.Python.3.11_qbz5n2kfra8p0\\LocalCache\\local-packages\\Python311\\site-packages\\py_wake\\deficit_models\\gaussian.py:279: UserWarning: The IEA37SimpleBastankhahGaussian model is not representative of the setup used in the literature. For this, use py_wake.literature.iea37_case_study1.IEA37CaseStudy1 instead\n",
      "  DeprecatedModel.__init__(self, 'py_wake.literature.iea37_case_study1.IEA37CaseStudy1')\n"
     ]
    }
   ],
   "source": [
    "n_wt = 9\n",
    "n_wd = 16\n",
    "\n",
    "site = IEA37Site(9)\n",
    "wind_turbines = IEA37_WindTurbines()\n",
    "wd = np.linspace(0.,360.,n_wd, endpoint=False)\n",
    "wfmodel = IEA37SimpleBastankhahGaussian(site, wind_turbines)   #PyWake's wind farm model"
   ]
  },
  {
   "cell_type": "code",
   "execution_count": 17,
   "id": "cad092a8",
   "metadata": {},
   "outputs": [
    {
     "name": "stdout",
     "output_type": "stream",
     "text": [
      "<py_wake.examples.data.iea37._iea37.IEA37Site object at 0x000001FF7105DCD0>\n"
     ]
    }
   ],
   "source": [
    "print(site)"
   ]
  },
  {
   "cell_type": "code",
   "execution_count": 18,
   "id": "abffe029",
   "metadata": {},
   "outputs": [],
   "source": [
    "cost_comp = PyWakeAEPCostModelComponent(wfmodel, n_wt, wd=wd)"
   ]
  },
  {
   "cell_type": "code",
   "execution_count": 19,
   "id": "22c82f42",
   "metadata": {},
   "outputs": [],
   "source": [
    "initial = get_iea37_initial(n_wt)\n",
    "driver = EasyScipyOptimizeDriver()"
   ]
  },
  {
   "cell_type": "code",
   "execution_count": 20,
   "id": "b116e4bc",
   "metadata": {},
   "outputs": [
    {
     "ename": "NameError",
     "evalue": "name 'pos' is not defined",
     "output_type": "error",
     "traceback": [
      "\u001b[31m---------------------------------------------------------------------------\u001b[39m",
      "\u001b[31mNameError\u001b[39m                                 Traceback (most recent call last)",
      "\u001b[36mCell\u001b[39m\u001b[36m \u001b[39m\u001b[32mIn[20]\u001b[39m\u001b[32m, line 4\u001b[39m\n\u001b[32m      2\u001b[39m [(\u001b[33m'\u001b[39m\u001b[33mx\u001b[39m\u001b[33m'\u001b[39m, [\u001b[32m1\u001b[39m,\u001b[32m2\u001b[39m,\u001b[32m3\u001b[39m]), (\u001b[33m'\u001b[39m\u001b[33my\u001b[39m\u001b[33m'\u001b[39m,([\u001b[32m3\u001b[39m,\u001b[32m2\u001b[39m,\u001b[32m1\u001b[39m], \u001b[32m0\u001b[39m, \u001b[32m1\u001b[39m)), (\u001b[33m'\u001b[39m\u001b[33mz\u001b[39m\u001b[33m'\u001b[39m,([\u001b[32m4\u001b[39m, \u001b[32m5\u001b[39m, \u001b[32m6\u001b[39m],[\u001b[32m4\u001b[39m, \u001b[32m5\u001b[39m, \u001b[32m4\u001b[39m], [\u001b[32m6\u001b[39m, \u001b[32m7\u001b[39m, \u001b[32m6\u001b[39m]))]\n\u001b[32m      3\u001b[39m [(\u001b[33m'\u001b[39m\u001b[33mx\u001b[39m\u001b[33m'\u001b[39m, ([\u001b[32m1\u001b[39m,\u001b[32m2\u001b[39m,\u001b[32m3\u001b[39m], \u001b[32m0\u001b[39m, \u001b[32m3\u001b[39m, \u001b[33m'\u001b[39m\u001b[33mm\u001b[39m\u001b[33m'\u001b[39m)), (\u001b[33m'\u001b[39m\u001b[33my\u001b[39m\u001b[33m'\u001b[39m, ([\u001b[32m3\u001b[39m,\u001b[32m2\u001b[39m,\u001b[32m1\u001b[39m], \u001b[33m'\u001b[39m\u001b[33mm\u001b[39m\u001b[33m'\u001b[39m)), (\u001b[33m'\u001b[39m\u001b[33mz\u001b[39m\u001b[33m'\u001b[39m, ([\u001b[32m4\u001b[39m,\u001b[32m5\u001b[39m,\u001b[32m6\u001b[39m], [\u001b[32m4\u001b[39m,\u001b[32m5\u001b[39m,\u001b[32m4\u001b[39m], [\u001b[32m6\u001b[39m,\u001b[32m7\u001b[39m,\u001b[32m6\u001b[39m]))]\n\u001b[32m----> \u001b[39m\u001b[32m4\u001b[39m \u001b[38;5;28mzip\u001b[39m(\u001b[33m'\u001b[39m\u001b[33mxy\u001b[39m\u001b[33m'\u001b[39m, \u001b[43mpos\u001b[49m.T)\n",
      "\u001b[31mNameError\u001b[39m: name 'pos' is not defined"
     ]
    }
   ],
   "source": [
    "{'x': [1, 2, 3], 'y':([3, 2, 1], 0, 1), 'z':([4, 5, 6],[4, 5, 4], [6, 7, 6])}\n",
    "[('x', [1,2,3]), ('y',([3,2,1], 0, 1)), ('z',([4, 5, 6],[4, 5, 4], [6, 7, 6]))]\n",
    "[('x', ([1,2,3], 0, 3, 'm')), ('y', ([3,2,1], 'm')), ('z', ([4,5,6], [4,5,4], [6,7,6]))]\n",
    "zip('xy', pos.T)"
   ]
  },
  {
   "cell_type": "code",
   "execution_count": null,
   "id": "f5c904e7",
   "metadata": {},
   "outputs": [],
   "source": [
    "design_vars = dict(zip('xy', (initial[:, :2]).T))\n",
    "\n",
    "tf_problem = TopFarmProblem(\n",
    "            design_vars,\n",
    "            cost_comp,\n",
    "            constraints=get_iea37_constraints(n_wt),\n",
    "            driver=driver,\n",
    "            plot_comp=XYPlotComp())"
   ]
  },
  {
   "cell_type": "code",
   "execution_count": null,
   "id": "0f786900",
   "metadata": {},
   "outputs": [],
   "source": [
    "_, state, _ = tf_problem.optimize()"
   ]
  }
 ],
 "metadata": {
  "kernelspec": {
   "display_name": "Python 3",
   "language": "python",
   "name": "python3"
  },
  "language_info": {
   "codemirror_mode": {
    "name": "ipython",
    "version": 3
   },
   "file_extension": ".py",
   "mimetype": "text/x-python",
   "name": "python",
   "nbconvert_exporter": "python",
   "pygments_lexer": "ipython3",
   "version": "3.11.9"
  }
 },
 "nbformat": 4,
 "nbformat_minor": 5
}
